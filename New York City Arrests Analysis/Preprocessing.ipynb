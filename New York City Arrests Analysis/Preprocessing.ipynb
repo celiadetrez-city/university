{
 "cells": [
  {
   "cell_type": "markdown",
   "metadata": {},
   "source": [
    "# INM433 - Individual coursework: Data pre-processing"
   ]
  },
  {
   "cell_type": "code",
   "execution_count": 95,
   "metadata": {},
   "outputs": [],
   "source": [
    "import geopandas as gp\n",
    "import pandas as pd\n",
    "import numpy as np\n",
    "import altair as alt\n",
    "import matplotlib.pyplot as plt\n",
    "import seaborn as sns\n",
    "from shapely.geometry import Point\n",
    "from ipywidgets import interact\n",
    "import contextily as ctx\n",
    "from sklearn.linear_model import LinearRegression"
   ]
  },
  {
   "cell_type": "code",
   "execution_count": 96,
   "metadata": {},
   "outputs": [],
   "source": [
    "path = \"C:\\\\Users\\\\Asus\\\\Documents\\\\City University\\\\INM433 Visual Analytics\\\\IndivualCoursework\\\\data\\\\coursework\\\\\""
   ]
  },
  {
   "cell_type": "markdown",
   "metadata": {},
   "source": [
    "## Boro_precinct_arrest [1] "
   ]
  },
  {
   "cell_type": "code",
   "execution_count": 97,
   "metadata": {},
   "outputs": [],
   "source": [
    "boro_precinct_arrest = pd.read_csv( path + 'NYPD_Arrest_Data__Year_to_Date_.csv', sep = \",\" )"
   ]
  },
  {
   "cell_type": "code",
   "execution_count": 98,
   "metadata": {},
   "outputs": [],
   "source": [
    "boro_precinct_arrest[\"ARREST_BORO\"] = boro_precinct_arrest[\"ARREST_BORO\"].replace( {\"B\":\"Bronx\",\n",
    "                                                \"K\":\"Brooklyn\",\n",
    "                                                \"S\":\"Staten Island\",\n",
    "                                                \"Q\":\"Queens\",\n",
    "                                                \"M\":\"Manhattan\"} )\n",
    "boro_precinct_arrest.rename( columns = {\"ARREST_PRECINCT\":\"precinct\", \"ARREST_BORO\":\"boro_name\"}, inplace = True )\n",
    "\n",
    "boro_precinct_arrest[\"ARREST_DATE\"] = pd.to_datetime( boro_precinct_arrest[\"ARREST_DATE\"], dayfirst = False )\n",
    "boro_precinct_arrest[\"ARREST_DATE\"] = pd.to_datetime(  boro_precinct_arrest[\"ARREST_DATE\"] )\n",
    "boro_precinct_arrest[\"MONTH\"] = boro_precinct_arrest[\"ARREST_DATE\"].apply( lambda x: x.month )\n",
    "boro_precinct_arrest[\"SEASON\"] = boro_precinct_arrest[\"MONTH\"].apply( lambda x: ( x%12 + 3 )//3 )\n",
    "boro_precinct_arrest[\"WEEKDAY\"] = boro_precinct_arrest[\"ARREST_DATE\"].apply( lambda x: x.weekday( ) )\n",
    "boro_precinct_arrest[\"DAY\"] = boro_precinct_arrest[\"ARREST_DATE\"].apply( lambda x: x.day )\n",
    "\n",
    "boro_precinct_arrest[\"WEEKDAY\"].replace({0:\"Monday\", 1:\"Tuesday\", 2:\"Wednesday\", 3:\"Thursday\", 4:\"Friday\", 5:\"Saturday\", 6:\"Sunday\"}, inplace = True )\n",
    "boro_precinct_arrest[\"SEASON\"].replace({1:\"Winter\", 2:\"Spring\", 3:\"Summer\", 4:\"Autumn\"}, inplace = True )"
   ]
  },
  {
   "cell_type": "code",
   "execution_count": 99,
   "metadata": {},
   "outputs": [
    {
     "data": {
      "text/html": [
       "<div>\n",
       "<style scoped>\n",
       "    .dataframe tbody tr th:only-of-type {\n",
       "        vertical-align: middle;\n",
       "    }\n",
       "\n",
       "    .dataframe tbody tr th {\n",
       "        vertical-align: top;\n",
       "    }\n",
       "\n",
       "    .dataframe thead th {\n",
       "        text-align: right;\n",
       "    }\n",
       "</style>\n",
       "<table border=\"1\" class=\"dataframe\">\n",
       "  <thead>\n",
       "    <tr style=\"text-align: right;\">\n",
       "      <th></th>\n",
       "      <th>ARREST_KEY</th>\n",
       "      <th>ARREST_DATE</th>\n",
       "      <th>PD_CD</th>\n",
       "      <th>PD_DESC</th>\n",
       "      <th>KY_CD</th>\n",
       "      <th>OFNS_DESC</th>\n",
       "      <th>LAW_CODE</th>\n",
       "      <th>LAW_CAT_CD</th>\n",
       "      <th>boro_name</th>\n",
       "      <th>precinct</th>\n",
       "      <th>...</th>\n",
       "      <th>PERP_SEX</th>\n",
       "      <th>PERP_RACE</th>\n",
       "      <th>X_COORD_CD</th>\n",
       "      <th>Y_COORD_CD</th>\n",
       "      <th>Latitude</th>\n",
       "      <th>Longitude</th>\n",
       "      <th>MONTH</th>\n",
       "      <th>SEASON</th>\n",
       "      <th>WEEKDAY</th>\n",
       "      <th>DAY</th>\n",
       "    </tr>\n",
       "  </thead>\n",
       "  <tbody>\n",
       "    <tr>\n",
       "      <th>0</th>\n",
       "      <td>203078287</td>\n",
       "      <td>2019-09-30</td>\n",
       "      <td>397.0</td>\n",
       "      <td>ROBBERY,OPEN AREA UNCLASSIFIED</td>\n",
       "      <td>105.0</td>\n",
       "      <td>ROBBERY</td>\n",
       "      <td>PL 1600500</td>\n",
       "      <td>F</td>\n",
       "      <td>Manhattan</td>\n",
       "      <td>9</td>\n",
       "      <td>...</td>\n",
       "      <td>M</td>\n",
       "      <td>BLACK HISPANIC</td>\n",
       "      <td>990563</td>\n",
       "      <td>203120</td>\n",
       "      <td>40.724200</td>\n",
       "      <td>-73.977226</td>\n",
       "      <td>9</td>\n",
       "      <td>Autumn</td>\n",
       "      <td>Monday</td>\n",
       "      <td>30</td>\n",
       "    </tr>\n",
       "    <tr>\n",
       "      <th>1</th>\n",
       "      <td>203072424</td>\n",
       "      <td>2019-09-30</td>\n",
       "      <td>268.0</td>\n",
       "      <td>CRIMINAL MIS 2 &amp; 3</td>\n",
       "      <td>121.0</td>\n",
       "      <td>CRIMINAL MISCHIEF &amp; RELATED OF</td>\n",
       "      <td>PL 1450502</td>\n",
       "      <td>F</td>\n",
       "      <td>Queens</td>\n",
       "      <td>113</td>\n",
       "      <td>...</td>\n",
       "      <td>M</td>\n",
       "      <td>BLACK</td>\n",
       "      <td>1040611</td>\n",
       "      <td>190715</td>\n",
       "      <td>40.689974</td>\n",
       "      <td>-73.796769</td>\n",
       "      <td>9</td>\n",
       "      <td>Autumn</td>\n",
       "      <td>Monday</td>\n",
       "      <td>30</td>\n",
       "    </tr>\n",
       "    <tr>\n",
       "      <th>2</th>\n",
       "      <td>203061215</td>\n",
       "      <td>2019-09-30</td>\n",
       "      <td>905.0</td>\n",
       "      <td>INTOXICATED DRIVING,ALCOHOL</td>\n",
       "      <td>347.0</td>\n",
       "      <td>INTOXICATED &amp; IMPAIRED DRIVING</td>\n",
       "      <td>VTL11920U3</td>\n",
       "      <td>M</td>\n",
       "      <td>Staten Island</td>\n",
       "      <td>122</td>\n",
       "      <td>...</td>\n",
       "      <td>M</td>\n",
       "      <td>WHITE</td>\n",
       "      <td>962989</td>\n",
       "      <td>160112</td>\n",
       "      <td>40.606129</td>\n",
       "      <td>-74.076570</td>\n",
       "      <td>9</td>\n",
       "      <td>Autumn</td>\n",
       "      <td>Monday</td>\n",
       "      <td>30</td>\n",
       "    </tr>\n",
       "    <tr>\n",
       "      <th>3</th>\n",
       "      <td>203061218</td>\n",
       "      <td>2019-09-30</td>\n",
       "      <td>397.0</td>\n",
       "      <td>ROBBERY,OPEN AREA UNCLASSIFIED</td>\n",
       "      <td>105.0</td>\n",
       "      <td>ROBBERY</td>\n",
       "      <td>PL 1601502</td>\n",
       "      <td>F</td>\n",
       "      <td>Staten Island</td>\n",
       "      <td>120</td>\n",
       "      <td>...</td>\n",
       "      <td>M</td>\n",
       "      <td>WHITE HISPANIC</td>\n",
       "      <td>962822</td>\n",
       "      <td>174282</td>\n",
       "      <td>40.645023</td>\n",
       "      <td>-74.077217</td>\n",
       "      <td>9</td>\n",
       "      <td>Autumn</td>\n",
       "      <td>Monday</td>\n",
       "      <td>30</td>\n",
       "    </tr>\n",
       "    <tr>\n",
       "      <th>4</th>\n",
       "      <td>203063729</td>\n",
       "      <td>2019-09-30</td>\n",
       "      <td>397.0</td>\n",
       "      <td>ROBBERY,OPEN AREA UNCLASSIFIED</td>\n",
       "      <td>105.0</td>\n",
       "      <td>ROBBERY</td>\n",
       "      <td>PL 1601001</td>\n",
       "      <td>F</td>\n",
       "      <td>Queens</td>\n",
       "      <td>106</td>\n",
       "      <td>...</td>\n",
       "      <td>M</td>\n",
       "      <td>ASIAN / PACIFIC ISLANDER</td>\n",
       "      <td>1035521</td>\n",
       "      <td>188624</td>\n",
       "      <td>40.684266</td>\n",
       "      <td>-73.815138</td>\n",
       "      <td>9</td>\n",
       "      <td>Autumn</td>\n",
       "      <td>Monday</td>\n",
       "      <td>30</td>\n",
       "    </tr>\n",
       "  </tbody>\n",
       "</table>\n",
       "<p>5 rows × 22 columns</p>\n",
       "</div>"
      ],
      "text/plain": [
       "   ARREST_KEY ARREST_DATE  PD_CD                         PD_DESC  KY_CD  \\\n",
       "0   203078287  2019-09-30  397.0  ROBBERY,OPEN AREA UNCLASSIFIED  105.0   \n",
       "1   203072424  2019-09-30  268.0              CRIMINAL MIS 2 & 3  121.0   \n",
       "2   203061215  2019-09-30  905.0     INTOXICATED DRIVING,ALCOHOL  347.0   \n",
       "3   203061218  2019-09-30  397.0  ROBBERY,OPEN AREA UNCLASSIFIED  105.0   \n",
       "4   203063729  2019-09-30  397.0  ROBBERY,OPEN AREA UNCLASSIFIED  105.0   \n",
       "\n",
       "                        OFNS_DESC    LAW_CODE LAW_CAT_CD      boro_name  \\\n",
       "0                         ROBBERY  PL 1600500          F      Manhattan   \n",
       "1  CRIMINAL MISCHIEF & RELATED OF  PL 1450502          F         Queens   \n",
       "2  INTOXICATED & IMPAIRED DRIVING  VTL11920U3          M  Staten Island   \n",
       "3                         ROBBERY  PL 1601502          F  Staten Island   \n",
       "4                         ROBBERY  PL 1601001          F         Queens   \n",
       "\n",
       "   precinct  ...  PERP_SEX                 PERP_RACE X_COORD_CD Y_COORD_CD  \\\n",
       "0         9  ...         M            BLACK HISPANIC     990563     203120   \n",
       "1       113  ...         M                     BLACK    1040611     190715   \n",
       "2       122  ...         M                     WHITE     962989     160112   \n",
       "3       120  ...         M            WHITE HISPANIC     962822     174282   \n",
       "4       106  ...         M  ASIAN / PACIFIC ISLANDER    1035521     188624   \n",
       "\n",
       "    Latitude  Longitude  MONTH  SEASON  WEEKDAY DAY  \n",
       "0  40.724200 -73.977226      9  Autumn   Monday  30  \n",
       "1  40.689974 -73.796769      9  Autumn   Monday  30  \n",
       "2  40.606129 -74.076570      9  Autumn   Monday  30  \n",
       "3  40.645023 -74.077217      9  Autumn   Monday  30  \n",
       "4  40.684266 -73.815138      9  Autumn   Monday  30  \n",
       "\n",
       "[5 rows x 22 columns]"
      ]
     },
     "execution_count": 99,
     "metadata": {},
     "output_type": "execute_result"
    }
   ],
   "source": [
    "boro_precinct_arrest.head()"
   ]
  },
  {
   "cell_type": "markdown",
   "metadata": {},
   "source": [
    "## Points of Interests table [2]"
   ]
  },
  {
   "cell_type": "code",
   "execution_count": 100,
   "metadata": {},
   "outputs": [],
   "source": [
    "boro_PI = pd.read_csv(path+\"Point_Of_Interest.csv\", sep =\",\")"
   ]
  },
  {
   "cell_type": "code",
   "execution_count": 101,
   "metadata": {},
   "outputs": [],
   "source": [
    "boro_PI[\"BOROUGH\"] = boro_PI[\"BOROUGH\"].replace( {2:\"Bronx\", 3:\"Brooklyn\",\n",
    "                                            5:\"Staten Island\",\n",
    "                                            4:\"Queens\",\n",
    "                                            1:\"Manhattan\"} )"
   ]
  },
  {
   "cell_type": "code",
   "execution_count": 102,
   "metadata": {},
   "outputs": [],
   "source": [
    "boro_PI[[\"Longitude\",\"Latitude\"]] = boro_PI[\"the_geom\"].str.split(\" \", expand = True).apply(lambda x: x.str.replace(\"(\",\"\").str.replace(\")\",\"\"))[[1,2]]"
   ]
  },
  {
   "cell_type": "code",
   "execution_count": 103,
   "metadata": {
    "scrolled": true
   },
   "outputs": [],
   "source": [
    "boro_PI[\"the_geom\"]= boro_PI.apply(lambda x : Point(float(x.loc[\"Longitude\"]), float(x.loc[\"Latitude\"]),), axis =1)"
   ]
  },
  {
   "cell_type": "code",
   "execution_count": 104,
   "metadata": {},
   "outputs": [],
   "source": [
    "boro_PI.FACI_DOM = boro_PI.FACI_DOM.replace({1:\"Residential\",2:\"Education\",3:\"Cultural\",4:\"Recreational\",5:\"Social\",6:\"Transportation\",7:\"Commercial\",8:\"Government\",9:\"Religious\",10:\"Health\",11:\"Safety\",12:\"Water\",13:\"Miscellaneous\"})"
   ]
  },
  {
   "cell_type": "markdown",
   "metadata": {},
   "source": [
    "## Schools table [3]"
   ]
  },
  {
   "cell_type": "code",
   "execution_count": 105,
   "metadata": {},
   "outputs": [],
   "source": [
    "schools  = gp.read_file(path + \"Schools\\\\Public_Schools_Points_2011-2012A.shp\")\n",
    "schools.rename(columns ={\"City\": \"boro_name\"}, inplace = True)"
   ]
  },
  {
   "cell_type": "code",
   "execution_count": 106,
   "metadata": {},
   "outputs": [],
   "source": [
    "schools.boro_name = schools.boro_name.replace({\"BRONX\":\"Bronx\", \"BROOKLYN\":\"Brooklyn\", \"MANHATTAN\":\"Manhattan\", \"QUEENS\":\"Queens\", \"STATEN ISLAND\":\"Staten Island\"} )"
   ]
  },
  {
   "cell_type": "code",
   "execution_count": 107,
   "metadata": {},
   "outputs": [],
   "source": [
    "schools = schools.to_crs( epsg = 4326 )"
   ]
  },
  {
   "cell_type": "code",
   "execution_count": 108,
   "metadata": {},
   "outputs": [],
   "source": [
    "schools[\"geometry\"] = schools[\"geometry\"].apply(lambda x: str(x))"
   ]
  },
  {
   "cell_type": "code",
   "execution_count": 109,
   "metadata": {
    "scrolled": true
   },
   "outputs": [],
   "source": [
    "schools[[\"Longitude\",\"Latitude\"]] = schools[\"geometry\"].str.split(\" \", expand = True).apply(lambda x: x.str.replace(\"(\",\"\").str.replace(\")\",\"\"))[[1,2]]"
   ]
  },
  {
   "cell_type": "code",
   "execution_count": 110,
   "metadata": {},
   "outputs": [],
   "source": [
    "schools[\"geometry\"]= schools.apply(lambda x : Point(float(x.loc[\"Longitude\"]), float(x.loc[\"Latitude\"])), axis =1)"
   ]
  },
  {
   "cell_type": "markdown",
   "metadata": {},
   "source": [
    "## Districts shapefile [4]"
   ]
  },
  {
   "cell_type": "code",
   "execution_count": 111,
   "metadata": {
    "code_folding": [],
    "scrolled": true
   },
   "outputs": [],
   "source": [
    "districts = gp.read_file(path + \"Community districts\\\\Community_districts.shp\")\n",
    "districts[\"Borough\"]=districts.boro_cd.apply(lambda x : int(str(x)[0])).replace( {2:\"Bronx\", 3:\"Brooklyn\",\n",
    "                                            5:\"Staten Island\",\n",
    "                                            4:\"Queens\",\n",
    "                                            1:\"Manhattan\"} )\n",
    "districts[\"boro_cd\"]=districts.boro_cd.apply(lambda x : int(str(x)[1:3]))"
   ]
  },
  {
   "cell_type": "markdown",
   "metadata": {},
   "source": [
    "## Districts table"
   ]
  },
  {
   "cell_type": "code",
   "execution_count": 112,
   "metadata": {},
   "outputs": [],
   "source": [
    "districts_table = districts[[\"Borough\",\"boro_cd\"]].copy()"
   ]
  },
  {
   "cell_type": "markdown",
   "metadata": {},
   "source": [
    "### Population information [5]"
   ]
  },
  {
   "cell_type": "code",
   "execution_count": 113,
   "metadata": {
    "scrolled": true
   },
   "outputs": [],
   "source": [
    "population = pd.read_csv(path+ \"New_York_City_Population_By_Community_Districts.csv\", sep = \";\")\n",
    "population.iloc[:,3:]= population.iloc[:,3:].transform(lambda x : x.str.replace(\",\",\"\") )\n",
    "population.rename( columns = {\"CD Number\":\"boro_cd\"}, inplace = True)"
   ]
  },
  {
   "cell_type": "code",
   "execution_count": 114,
   "metadata": {
    "scrolled": true
   },
   "outputs": [
    {
     "data": {
      "text/html": [
       "<div>\n",
       "<style scoped>\n",
       "    .dataframe tbody tr th:only-of-type {\n",
       "        vertical-align: middle;\n",
       "    }\n",
       "\n",
       "    .dataframe tbody tr th {\n",
       "        vertical-align: top;\n",
       "    }\n",
       "\n",
       "    .dataframe thead th {\n",
       "        text-align: right;\n",
       "    }\n",
       "</style>\n",
       "<table border=\"1\" class=\"dataframe\">\n",
       "  <thead>\n",
       "    <tr style=\"text-align: right;\">\n",
       "      <th></th>\n",
       "      <th>Borough</th>\n",
       "      <th>boro_cd</th>\n",
       "      <th>CD Name</th>\n",
       "      <th>1970 Population</th>\n",
       "      <th>1980 Population</th>\n",
       "      <th>1990 Population</th>\n",
       "      <th>2000 Population</th>\n",
       "      <th>2010 Population</th>\n",
       "    </tr>\n",
       "  </thead>\n",
       "  <tbody>\n",
       "    <tr>\n",
       "      <th>0</th>\n",
       "      <td>Bronx</td>\n",
       "      <td>1</td>\n",
       "      <td>Melrose, Mott Haven, Port Morris</td>\n",
       "      <td>138557</td>\n",
       "      <td>78441</td>\n",
       "      <td>77214</td>\n",
       "      <td>82159</td>\n",
       "      <td>91497</td>\n",
       "    </tr>\n",
       "    <tr>\n",
       "      <th>1</th>\n",
       "      <td>Bronx</td>\n",
       "      <td>2</td>\n",
       "      <td>Hunts Point, Longwood</td>\n",
       "      <td>99493</td>\n",
       "      <td>34399</td>\n",
       "      <td>39443</td>\n",
       "      <td>46824</td>\n",
       "      <td>52246</td>\n",
       "    </tr>\n",
       "    <tr>\n",
       "      <th>2</th>\n",
       "      <td>Bronx</td>\n",
       "      <td>3</td>\n",
       "      <td>Morrisania, Crotona Park East</td>\n",
       "      <td>150636</td>\n",
       "      <td>53635</td>\n",
       "      <td>57162</td>\n",
       "      <td>68574</td>\n",
       "      <td>79762</td>\n",
       "    </tr>\n",
       "    <tr>\n",
       "      <th>3</th>\n",
       "      <td>Bronx</td>\n",
       "      <td>4</td>\n",
       "      <td>Highbridge, Concourse Village</td>\n",
       "      <td>144207</td>\n",
       "      <td>114312</td>\n",
       "      <td>119962</td>\n",
       "      <td>139563</td>\n",
       "      <td>146441</td>\n",
       "    </tr>\n",
       "    <tr>\n",
       "      <th>4</th>\n",
       "      <td>Bronx</td>\n",
       "      <td>5</td>\n",
       "      <td>University Hts., Fordham, Mt. Hope</td>\n",
       "      <td>121807</td>\n",
       "      <td>107995</td>\n",
       "      <td>118435</td>\n",
       "      <td>128313</td>\n",
       "      <td>128200</td>\n",
       "    </tr>\n",
       "  </tbody>\n",
       "</table>\n",
       "</div>"
      ],
      "text/plain": [
       "  Borough  boro_cd                             CD Name 1970 Population  \\\n",
       "0   Bronx        1    Melrose, Mott Haven, Port Morris          138557   \n",
       "1   Bronx        2               Hunts Point, Longwood           99493   \n",
       "2   Bronx        3       Morrisania, Crotona Park East          150636   \n",
       "3   Bronx        4       Highbridge, Concourse Village          144207   \n",
       "4   Bronx        5  University Hts., Fordham, Mt. Hope          121807   \n",
       "\n",
       "  1980 Population 1990 Population 2000 Population 2010 Population  \n",
       "0           78441           77214           82159           91497  \n",
       "1           34399           39443           46824           52246  \n",
       "2           53635           57162           68574           79762  \n",
       "3          114312          119962          139563          146441  \n",
       "4          107995          118435          128313          128200  "
      ]
     },
     "execution_count": 114,
     "metadata": {},
     "output_type": "execute_result"
    }
   ],
   "source": [
    "population.head()"
   ]
  },
  {
   "cell_type": "code",
   "execution_count": 115,
   "metadata": {},
   "outputs": [],
   "source": [
    "districts_table = districts_table[districts_table.boro_cd.isin(population.boro_cd.unique())]\n",
    "districts = districts[districts.boro_cd.isin(population.boro_cd.unique())]"
   ]
  },
  {
   "cell_type": "markdown",
   "metadata": {},
   "source": [
    "- What is the population in 2019?"
   ]
  },
  {
   "cell_type": "code",
   "execution_count": 116,
   "metadata": {},
   "outputs": [],
   "source": [
    "population[\"Population_2019\"] = population.apply(lambda x: LinearRegression().fit( np.array([1990,2000,2010]).reshape(-1, 1),x.iloc[5:]).predict(np.array([2019]).reshape(-1, 1))[0], axis = 1)"
   ]
  },
  {
   "cell_type": "code",
   "execution_count": 117,
   "metadata": {},
   "outputs": [],
   "source": [
    "population.set_index([\"Borough\",\"boro_cd\"], inplace = True)\n",
    "districts_table.set_index([\"Borough\",\"boro_cd\"], inplace = True)\n",
    "districts.set_index([\"Borough\",\"boro_cd\"], inplace = True)"
   ]
  },
  {
   "cell_type": "code",
   "execution_count": 118,
   "metadata": {
    "scrolled": true
   },
   "outputs": [],
   "source": [
    "districts_table = pd.concat([districts_table, population[[\"Population_2019\", \"CD Name\"]]], ignore_index = False, axis = 1)"
   ]
  },
  {
   "cell_type": "markdown",
   "metadata": {},
   "source": [
    "### Arrests information"
   ]
  },
  {
   "cell_type": "code",
   "execution_count": 119,
   "metadata": {
    "scrolled": true
   },
   "outputs": [],
   "source": [
    "boro_precinct_arrest[\"Points\"]= boro_precinct_arrest.apply(lambda x : Point(x.loc[\"Longitude\"],x.loc[\"Latitude\"],), axis =1)"
   ]
  },
  {
   "cell_type": "code",
   "execution_count": 120,
   "metadata": {},
   "outputs": [],
   "source": [
    "pnts = gp.GeoDataFrame(geometry=boro_precinct_arrest[\"Points\"], index=boro_precinct_arrest.index)\n",
    "pnts = pnts.assign(**{str(key): pnts.within(geom) for key, geom in districts.geometry.items()})"
   ]
  },
  {
   "cell_type": "markdown",
   "metadata": {},
   "source": [
    "Drop points outside of the city"
   ]
  },
  {
   "cell_type": "code",
   "execution_count": 121,
   "metadata": {},
   "outputs": [
    {
     "data": {
      "text/plain": [
       "Int64Index([   140,    163,    216,    528,    768,    791,   1429,   1454,\n",
       "              1594,   1799,\n",
       "            ...\n",
       "            165586, 165589, 165683, 165692, 165696, 166947, 166965, 167349,\n",
       "            167364, 167381],\n",
       "           dtype='int64', length=679)"
      ]
     },
     "execution_count": 121,
     "metadata": {},
     "output_type": "execute_result"
    }
   ],
   "source": [
    "pnts.sum(axis=1)[pnts.sum(axis=1)==0].index"
   ]
  },
  {
   "cell_type": "code",
   "execution_count": 122,
   "metadata": {},
   "outputs": [],
   "source": [
    "boro_precinct_arrest.drop(index = pnts.sum(axis=1)[pnts.sum(axis=1)==0].index, inplace = True)\n",
    "pnts.drop(index = pnts.sum(axis=1)[pnts.sum(axis=1)==0].index, inplace = True)"
   ]
  },
  {
   "cell_type": "code",
   "execution_count": 123,
   "metadata": {
    "scrolled": true
   },
   "outputs": [],
   "source": [
    "boro_precinct_arrest[\"boro_cd\"] = pnts.apply(lambda x: eval(x[x==True].index[0])[1], axis =1)"
   ]
  },
  {
   "cell_type": "code",
   "execution_count": 124,
   "metadata": {
    "scrolled": true
   },
   "outputs": [],
   "source": [
    "districts_table[\"Arrest\"] = boro_precinct_arrest.groupby([\"boro_name\",\"boro_cd\"]).apply(lambda x: x.shape[0]/districts_table.Population_2019.loc[x.name]*100)"
   ]
  },
  {
   "cell_type": "code",
   "execution_count": 125,
   "metadata": {
    "scrolled": true
   },
   "outputs": [],
   "source": [
    "for sex in boro_precinct_arrest.PERP_SEX.unique():\n",
    "    select = boro_precinct_arrest.PERP_SEX == sex\n",
    "    districts_table[\"Arr_S\"+sex] = boro_precinct_arrest[select].groupby([\"boro_name\",\"boro_cd\"]).apply(lambda x: x.shape[0]/districts_table.Population_2019.loc[x.name]*100)"
   ]
  },
  {
   "cell_type": "code",
   "execution_count": 126,
   "metadata": {},
   "outputs": [],
   "source": [
    "for age_group in boro_precinct_arrest.AGE_GROUP.unique():  \n",
    "    select = boro_precinct_arrest.AGE_GROUP == age_group\n",
    "    districts_table[\"Arr_A\"+age_group] = boro_precinct_arrest[select].groupby([\"boro_name\",\"boro_cd\"]).apply(lambda x: x.shape[0]/districts_table.Population_2019.loc[x.name]*100)\n",
    "    districts_table[\"Arr_A\"+age_group] = districts_table[\"Arr_A\"+age_group].fillna(0)"
   ]
  },
  {
   "cell_type": "code",
   "execution_count": 127,
   "metadata": {},
   "outputs": [],
   "source": [
    "for crime in ['F', 'M', 'V', 'I']:\n",
    "    select = boro_precinct_arrest.LAW_CAT_CD == crime\n",
    "    districts_table[\"Arr_C\"+crime] = boro_precinct_arrest[select].groupby([\"boro_name\",\"boro_cd\"]).apply(lambda x: x.shape[0]/districts_table.Population_2019.loc[x.name]*100)\n",
    "    districts_table[\"Arr_C\"+crime] = districts_table[\"Arr_C\"+crime].fillna(0)"
   ]
  },
  {
   "cell_type": "code",
   "execution_count": 128,
   "metadata": {},
   "outputs": [],
   "source": [
    "for race in boro_precinct_arrest.PERP_RACE.unique():\n",
    "    select = boro_precinct_arrest.PERP_RACE == race\n",
    "    districts_table[\"Arr_R\"+race] = boro_precinct_arrest[select].groupby([\"boro_name\",\"boro_cd\"]).apply(lambda x: x.shape[0]/districts_table.Population_2019.loc[x.name]*100)\n",
    "    districts_table[\"Arr_R\"+race] = districts_table[\"Arr_R\"+race].fillna(0)"
   ]
  },
  {
   "cell_type": "code",
   "execution_count": 129,
   "metadata": {},
   "outputs": [],
   "source": [
    "for age_group in boro_precinct_arrest.AGE_GROUP.unique():  \n",
    "    for sex in boro_precinct_arrest.PERP_SEX.unique():\n",
    "        for crime in ['F', 'M', 'V', 'I']:\n",
    "            for race in boro_precinct_arrest.PERP_RACE.unique():\n",
    "                select = (boro_precinct_arrest.PERP_SEX == sex)&(boro_precinct_arrest.AGE_GROUP == age_group)&(boro_precinct_arrest.LAW_CAT_CD == crime)&(boro_precinct_arrest.PERP_RACE == race)\n",
    "                if boro_precinct_arrest[select].shape[0]>0:\n",
    "                    districts_table[\"Arr_A\"+age_group+\"//C\"+crime+\"//R\"+race+\"//S\"+sex] = boro_precinct_arrest[select].groupby([\"boro_name\",\"boro_cd\"]).apply(lambda x: x.shape[0]/districts_table.Population_2019.loc[x.name]*100)\n",
    "                    districts_table[\"Arr_A\"+age_group+\"//C\"+crime+\"//R\"+race+\"//S\"+sex] = districts_table[\"Arr_A\"+age_group+\"//C\"+crime+\"//R\"+race+\"//S\"+sex].fillna(0)\n",
    "                else:\n",
    "                    districts_table[\"Arr_A\"+age_group+\"//C\"+crime+\"//R\"+race+\"//S\"+sex] = 0"
   ]
  },
  {
   "cell_type": "code",
   "execution_count": 130,
   "metadata": {},
   "outputs": [],
   "source": [
    "for age_group in boro_precinct_arrest.AGE_GROUP.unique():  \n",
    "    for sex in boro_precinct_arrest.PERP_SEX.unique():\n",
    "            for race in boro_precinct_arrest.PERP_RACE.unique():\n",
    "                select = (boro_precinct_arrest.PERP_SEX == sex)&(boro_precinct_arrest.AGE_GROUP == age_group)&(boro_precinct_arrest.PERP_RACE == race)\n",
    "                if boro_precinct_arrest[select].shape[0]>0:\n",
    "                    districts_table[\"Arr_A\"+age_group+\"//R\"+race+\"//S\"+sex] = boro_precinct_arrest[select].groupby([\"boro_name\",\"boro_cd\"]).apply(lambda x: x.shape[0]/districts_table.Population_2019.loc[x.name]*100)\n",
    "                    districts_table[\"Arr_A\"+age_group+\"//R\"+race+\"//S\"+sex] = districts_table[\"Arr_A\"+age_group+\"//R\"+race+\"//S\"+sex].fillna(0)\n",
    "                else:\n",
    "                    districts_table[\"Arr_A\"+age_group+\"//R\"+race+\"//S\"+sex] = 0"
   ]
  },
  {
   "cell_type": "code",
   "execution_count": 131,
   "metadata": {},
   "outputs": [],
   "source": [
    " for sex in boro_precinct_arrest.PERP_SEX.unique():\n",
    "    for crime in ['F', 'M', 'V', 'I']:\n",
    "        for race in boro_precinct_arrest.PERP_RACE.unique():\n",
    "            select = (boro_precinct_arrest.PERP_SEX == sex)&(boro_precinct_arrest.LAW_CAT_CD == crime)&(boro_precinct_arrest.PERP_RACE == race)\n",
    "            if boro_precinct_arrest[select].shape[0]>0:\n",
    "                districts_table[\"C\"+crime+\"//R\"+race+\"//S\"+sex] = boro_precinct_arrest[select].groupby([\"boro_name\",\"boro_cd\"]).apply(lambda x: x.shape[0]/districts_table.Population_2019.loc[x.name]*100)\n",
    "                districts_table[\"C\"+crime+\"//R\"+race+\"//S\"+sex] = districts_table[\"C\"+crime+\"//R\"+race+\"//S\"+sex].fillna(0)\n",
    "            else:\n",
    "                districts_table[\"C\"+crime+\"//R\"+race+\"//S\"+sex] = 0"
   ]
  },
  {
   "cell_type": "code",
   "execution_count": 132,
   "metadata": {},
   "outputs": [],
   "source": [
    "for age_group in boro_precinct_arrest.AGE_GROUP.unique():  \n",
    "    for crime in ['F', 'M', 'V', 'I']:\n",
    "        for race in boro_precinct_arrest.PERP_RACE.unique():\n",
    "            select = (boro_precinct_arrest.AGE_GROUP == age_group)&(boro_precinct_arrest.LAW_CAT_CD == crime)&(boro_precinct_arrest.PERP_RACE == race)\n",
    "            if boro_precinct_arrest[select].shape[0]>0:\n",
    "                districts_table[\"Arr_A\"+age_group+\"//C\"+crime+\"//R\"+race] = boro_precinct_arrest[select].groupby([\"boro_name\",\"boro_cd\"]).apply(lambda x: x.shape[0]/districts_table.Population_2019.loc[x.name]*100)\n",
    "                districts_table[\"Arr_A\"+age_group+\"//C\"+crime+\"//R\"+race] = districts_table[\"Arr_A\"+age_group+\"//C\"+crime+\"//R\"+race].fillna(0)\n",
    "            else:\n",
    "                districts_table[\"Arr_A\"+age_group+\"//C\"+crime+\"//R\"+race] = 0"
   ]
  },
  {
   "cell_type": "code",
   "execution_count": 133,
   "metadata": {},
   "outputs": [],
   "source": [
    "for age_group in boro_precinct_arrest.AGE_GROUP.unique():  \n",
    "    for sex in boro_precinct_arrest.PERP_SEX.unique():\n",
    "        for crime in ['F', 'M', 'V', 'I']:\n",
    "            select = (boro_precinct_arrest.PERP_SEX == sex)&(boro_precinct_arrest.AGE_GROUP == age_group)&(boro_precinct_arrest.LAW_CAT_CD == crime)\n",
    "            if boro_precinct_arrest[select].shape[0]>0:\n",
    "                districts_table[\"Arr_A\"+age_group+\"//C\"+crime+\"//S\"+sex] = boro_precinct_arrest[select].groupby([\"boro_name\",\"boro_cd\"]).apply(lambda x: x.shape[0]/districts_table.Population_2019.loc[x.name]*100)\n",
    "                districts_table[\"Arr_A\"+age_group+\"//C\"+crime+\"//S\"+sex] = districts_table[\"Arr_A\"+age_group+\"//C\"+crime+\"//S\"+sex].fillna(0)\n",
    "            else:\n",
    "                districts_table[\"Arr_A\"+age_group+\"//C\"+crime+\"//S\"+sex] = 0"
   ]
  },
  {
   "cell_type": "code",
   "execution_count": 134,
   "metadata": {},
   "outputs": [],
   "source": [
    "for age_group in boro_precinct_arrest.AGE_GROUP.unique():  \n",
    "    for sex in boro_precinct_arrest.PERP_SEX.unique():\n",
    "            select = (boro_precinct_arrest.PERP_SEX == sex)&(boro_precinct_arrest.AGE_GROUP == age_group)\n",
    "            districts_table[\"Arr_A\"+age_group+\"//S\"+sex] = boro_precinct_arrest[select].groupby([\"boro_name\",\"boro_cd\"]).apply(lambda x: x.shape[0]/districts_table.Population_2019.loc[x.name]*100)\n",
    "            districts_table[\"Arr_A\"+age_group+\"//S\"+sex] = districts_table[\"Arr_A\"+age_group+\"//S\"+sex].fillna(0)"
   ]
  },
  {
   "cell_type": "code",
   "execution_count": 135,
   "metadata": {},
   "outputs": [],
   "source": [
    "for age_group in boro_precinct_arrest.AGE_GROUP.unique():  \n",
    "        for crime in ['F', 'M', 'V', 'I']:\n",
    "            select = (boro_precinct_arrest.AGE_GROUP == age_group)&(boro_precinct_arrest.LAW_CAT_CD == crime)\n",
    "            districts_table[\"Arr_A\"+age_group+\"//C\"+crime] = boro_precinct_arrest[select].groupby([\"boro_name\",\"boro_cd\"]).apply(lambda x: x.shape[0]/districts_table.Population_2019.loc[x.name]*100)\n",
    "            districts_table[\"Arr_A\"+age_group+\"//C\"+crime] = districts_table[\"Arr_A\"+age_group+\"//C\"+crime].fillna(0)"
   ]
  },
  {
   "cell_type": "code",
   "execution_count": 136,
   "metadata": {},
   "outputs": [],
   "source": [
    "for sex in boro_precinct_arrest.PERP_SEX.unique():\n",
    "        for crime in ['F', 'M', 'V', 'I']:\n",
    "            select = (boro_precinct_arrest.PERP_SEX == sex)&(boro_precinct_arrest.LAW_CAT_CD == crime)\n",
    "            districts_table[\"Arr_C\"+crime+\"//S\"+sex] = boro_precinct_arrest[select].groupby([\"boro_name\",\"boro_cd\"]).apply(lambda x: x.shape[0]/districts_table.Population_2019.loc[x.name]*100)\n",
    "            districts_table[\"Arr_C\"+crime+\"//S\"+sex] = districts_table[\"Arr_C\"+crime+\"//S\"+sex].fillna(0)"
   ]
  },
  {
   "cell_type": "code",
   "execution_count": 137,
   "metadata": {},
   "outputs": [],
   "source": [
    "for age_group in boro_precinct_arrest.AGE_GROUP.unique():  \n",
    "    for race in boro_precinct_arrest.PERP_RACE.unique():\n",
    "            select = (boro_precinct_arrest.AGE_GROUP == age_group)&(boro_precinct_arrest.PERP_RACE == race)\n",
    "            if boro_precinct_arrest[select].shape[0]>0:\n",
    "                    districts_table[\"Arr_A\"+age_group+\"//R\"+race] = boro_precinct_arrest[select].groupby([\"boro_name\",\"boro_cd\"]).apply(lambda x: x.shape[0]/districts_table.Population_2019.loc[x.name]*100)\n",
    "                    districts_table[\"Arr_A\"+age_group+\"//R\"+race] = districts_table[\"Arr_A\"+age_group+\"//R\"+race].fillna(0)\n",
    "            else:\n",
    "                    districts_table[\"Arr_A\"+age_group+\"//R\"+race] = 0"
   ]
  },
  {
   "cell_type": "code",
   "execution_count": 138,
   "metadata": {},
   "outputs": [],
   "source": [
    "for sex in boro_precinct_arrest.PERP_SEX.unique():\n",
    "            for race in boro_precinct_arrest.PERP_RACE.unique():\n",
    "                select = (boro_precinct_arrest.PERP_SEX == sex)&(boro_precinct_arrest.PERP_RACE == race)\n",
    "                if boro_precinct_arrest[select].shape[0]>0:\n",
    "                    districts_table[\"Arr_R\"+race+\"//S\"+sex] = boro_precinct_arrest[select].groupby([\"boro_name\",\"boro_cd\"]).apply(lambda x: x.shape[0]/districts_table.Population_2019.loc[x.name]*100)\n",
    "                    districts_table[\"Arr_R\"+race+\"//S\"+sex] = districts_table[\"Arr_R\"+race+\"//S\"+sex].fillna(0)\n",
    "                else:\n",
    "                    districts_table[\"Arr_R\"+race+\"//S\"+sex] = 0"
   ]
  },
  {
   "cell_type": "code",
   "execution_count": 139,
   "metadata": {},
   "outputs": [],
   "source": [
    "for crime in ['F', 'M', 'V', 'I']:\n",
    "        for race in boro_precinct_arrest.PERP_RACE.unique():\n",
    "            select = (boro_precinct_arrest.LAW_CAT_CD == crime)&(boro_precinct_arrest.PERP_RACE == race)\n",
    "            if boro_precinct_arrest[select].shape[0]>0:\n",
    "                districts_table[\"Arr_C\"+crime+\"//R\"+race] = boro_precinct_arrest[select].groupby([\"boro_name\",\"boro_cd\"]).apply(lambda x: x.shape[0]/districts_table.Population_2019.loc[x.name]*100)\n",
    "                districts_table[\"Arr_C\"+crime+\"//R\"+race] = districts_table[\"Arr_C\"+crime+\"//R\"+race].fillna(0)\n",
    "            else:\n",
    "                districts_table[\"Arr_C\"+crime+\"//R\"+race] = 0"
   ]
  },
  {
   "cell_type": "markdown",
   "metadata": {},
   "source": [
    "### PI information"
   ]
  },
  {
   "cell_type": "code",
   "execution_count": 140,
   "metadata": {
    "scrolled": true
   },
   "outputs": [],
   "source": [
    "pnts = gp.GeoDataFrame(geometry=boro_PI[\"the_geom\"], index=boro_PI.index)\n",
    "pnts = pnts.assign(**{str(key): pnts.within(geom) for key, geom in districts.geometry.items()})"
   ]
  },
  {
   "cell_type": "markdown",
   "metadata": {},
   "source": [
    "Drop PI outside city"
   ]
  },
  {
   "cell_type": "code",
   "execution_count": 141,
   "metadata": {
    "scrolled": false
   },
   "outputs": [
    {
     "data": {
      "text/plain": [
       "Int64Index([    6,    21,    24,    26,    30,    34,    35,    37,    41,\n",
       "               46,\n",
       "            ...\n",
       "            20010, 20012, 20013, 20015, 20016, 20018, 20019, 20020, 20021,\n",
       "            20027],\n",
       "           dtype='int64', length=1800)"
      ]
     },
     "execution_count": 141,
     "metadata": {},
     "output_type": "execute_result"
    }
   ],
   "source": [
    "pnts.sum(axis=1)[pnts.sum(axis=1)==0].index"
   ]
  },
  {
   "cell_type": "code",
   "execution_count": 142,
   "metadata": {},
   "outputs": [],
   "source": [
    "boro_PI.drop(index = pnts.sum(axis=1)[pnts.sum(axis=1)==0].index, inplace = True)\n",
    "pnts.drop(index = pnts.sum(axis=1)[pnts.sum(axis=1)==0].index, inplace = True)"
   ]
  },
  {
   "cell_type": "code",
   "execution_count": 143,
   "metadata": {},
   "outputs": [],
   "source": [
    "boro_PI[\"boro_cd\"] = pnts.apply(lambda x: eval(x[x==True].index[0])[1], axis =1)"
   ]
  },
  {
   "cell_type": "code",
   "execution_count": 144,
   "metadata": {},
   "outputs": [],
   "source": [
    "districts_table[\"PI/Tot\"] = boro_PI.groupby([\"BOROUGH\",\"boro_cd\"]).apply(lambda x: x.shape[0]/districts_table.Population_2019.loc[x.name]*100)"
   ]
  },
  {
   "cell_type": "code",
   "execution_count": 145,
   "metadata": {},
   "outputs": [],
   "source": [
    "boro_PI.FACI_DOM = boro_PI.FACI_DOM.fillna(\"unknown\")"
   ]
  },
  {
   "cell_type": "code",
   "execution_count": 146,
   "metadata": {},
   "outputs": [],
   "source": [
    "for dom in boro_PI.FACI_DOM.unique():\n",
    "    select = boro_PI.FACI_DOM == dom\n",
    "    districts_table[\"PI/Tot_D\"+str(dom)] = boro_PI[select].groupby([\"BOROUGH\",\"boro_cd\"]).apply(lambda x: x.shape[0]/districts_table.Population_2019.loc[x.name]*100)\n",
    "    districts_table[\"PI/Tot_D\"+str(dom)] = districts_table[\"PI/Tot_D\"+str(dom)].fillna(0)"
   ]
  },
  {
   "cell_type": "markdown",
   "metadata": {},
   "source": [
    "### Schools information"
   ]
  },
  {
   "cell_type": "code",
   "execution_count": 147,
   "metadata": {},
   "outputs": [],
   "source": [
    "pnts = gp.GeoDataFrame(geometry=schools[\"geometry\"], index=schools.index)\n",
    "pnts = pnts.assign(**{str(key): pnts.within(geom) for key, geom in districts.geometry.items()})"
   ]
  },
  {
   "cell_type": "markdown",
   "metadata": {},
   "source": [
    "Drop schools outside city"
   ]
  },
  {
   "cell_type": "code",
   "execution_count": 148,
   "metadata": {},
   "outputs": [
    {
     "data": {
      "text/plain": [
       "Int64Index([1555, 1556], dtype='int64')"
      ]
     },
     "execution_count": 148,
     "metadata": {},
     "output_type": "execute_result"
    }
   ],
   "source": [
    "pnts.sum(axis=1)[pnts.sum(axis=1)==0].index"
   ]
  },
  {
   "cell_type": "code",
   "execution_count": 149,
   "metadata": {},
   "outputs": [],
   "source": [
    "schools.drop(index = pnts.sum(axis=1)[pnts.sum(axis=1)==0].index, inplace = True)\n",
    "pnts.drop(index = pnts.sum(axis=1)[pnts.sum(axis=1)==0].index, inplace = True)"
   ]
  },
  {
   "cell_type": "code",
   "execution_count": 150,
   "metadata": {
    "scrolled": true
   },
   "outputs": [],
   "source": [
    "schools[\"boro_cd\"] = pnts.apply(lambda x: eval(x[x==True].index[0])[1], axis =1)\n",
    "schools[\"boro_name\"] = pnts.apply(lambda x: eval(x[x==True].index[0])[0], axis =1)"
   ]
  },
  {
   "cell_type": "code",
   "execution_count": 151,
   "metadata": {
    "scrolled": true
   },
   "outputs": [],
   "source": [
    "districts_table[\"Schools/Tot\"] = schools.groupby([\"boro_name\",\"boro_cd\"]).apply(lambda x: x.shape[0]/districts_table.Population_2019.loc[x.name]*100)"
   ]
  },
  {
   "cell_type": "code",
   "execution_count": 152,
   "metadata": {},
   "outputs": [],
   "source": [
    "for type in schools.SCH_TYPE.unique():\n",
    "    select = schools.SCH_TYPE == type\n",
    "    districts_table[\"Schools/Tot_\"+type] = schools[select].groupby([\"boro_name\",\"boro_cd\"]).apply(lambda x: x.shape[0]/districts_table.Population_2019.loc[x.name]*100)\n",
    "    districts_table[\"Schools/Tot_\"+type] = districts_table[\"Schools/Tot_\"+type].fillna(0)"
   ]
  },
  {
   "cell_type": "markdown",
   "metadata": {},
   "source": [
    "### Demographic information [6]"
   ]
  },
  {
   "cell_type": "code",
   "execution_count": 153,
   "metadata": {
    "scrolled": true
   },
   "outputs": [],
   "source": [
    "demo = pd.read_csv(path + \"Demo_2016.csv\",sep =\";\", index_col=0)"
   ]
  },
  {
   "cell_type": "code",
   "execution_count": 154,
   "metadata": {},
   "outputs": [],
   "source": [
    "districts_table = districts_table.reset_index()"
   ]
  },
  {
   "cell_type": "markdown",
   "metadata": {},
   "source": [
    "$\\text{ratio_demo_2016} = \\frac{\\text{demo_cat}}{\\text{tot2016}}$\n",
    "\n",
    "$\\text{demo_2019} = \\text{ratio_demo_2016}*\\text{tot2019}$\n",
    "\n",
    "$\\text{demo_boro_cd_2019} = \\text{demo_2019}*\\frac{\\text{tot_boro_cd_2019}}{\\text{tot2019}}= \\text{ratio_demo_2016}*\\text{tot_boro_cd_2019}$"
   ]
  },
  {
   "cell_type": "code",
   "execution_count": 155,
   "metadata": {},
   "outputs": [],
   "source": [
    "demo.rename({\"StatenIsland\":\"Staten Island\"}, inplace = True)"
   ]
  },
  {
   "cell_type": "code",
   "execution_count": 156,
   "metadata": {
    "scrolled": true
   },
   "outputs": [],
   "source": [
    "for boro in districts_table.Borough:\n",
    "    for cd in districts_table.boro_cd:\n",
    "        for col in demo.columns:\n",
    "            districts_table.loc[(districts_table.Borough == boro) & (districts_table.boro_cd == cd),\"demo_\"+col] = float(demo.loc[boro,col].replace(\",\",\"\"))*districts_table.loc[(districts_table.Borough == boro) & (districts_table.boro_cd == cd),\"Population_2019\"]"
   ]
  },
  {
   "cell_type": "code",
   "execution_count": 157,
   "metadata": {},
   "outputs": [
    {
     "data": {
      "text/html": [
       "<div>\n",
       "<style scoped>\n",
       "    .dataframe tbody tr th:only-of-type {\n",
       "        vertical-align: middle;\n",
       "    }\n",
       "\n",
       "    .dataframe tbody tr th {\n",
       "        vertical-align: top;\n",
       "    }\n",
       "\n",
       "    .dataframe thead th {\n",
       "        text-align: right;\n",
       "    }\n",
       "</style>\n",
       "<table border=\"1\" class=\"dataframe\">\n",
       "  <thead>\n",
       "    <tr style=\"text-align: right;\">\n",
       "      <th></th>\n",
       "      <th>Borough</th>\n",
       "      <th>boro_cd</th>\n",
       "      <th>Population_2019</th>\n",
       "      <th>CD Name</th>\n",
       "      <th>Arrest</th>\n",
       "      <th>Arr_SM</th>\n",
       "      <th>Arr_SF</th>\n",
       "      <th>Arr_A25-44</th>\n",
       "      <th>Arr_A18-24</th>\n",
       "      <th>Arr_A45-64</th>\n",
       "      <th>...</th>\n",
       "      <th>demo_Whitealone</th>\n",
       "      <th>demo_BlackorAfricanAmericanalone</th>\n",
       "      <th>demo_AmericanIndianandAlaskaNativealone</th>\n",
       "      <th>demo_Asianalone</th>\n",
       "      <th>demo_NativeHawaiianandOtherPacificIslanderalone</th>\n",
       "      <th>demo_Someotherracealone</th>\n",
       "      <th>demo_Twoormoreraces.2</th>\n",
       "      <th>demo_TworacesincludingSomeotherrace</th>\n",
       "      <th>demo_TworacesexcludingSomeotherraceandThreeormoreraces</th>\n",
       "      <th>demo_Totalhousingunits</th>\n",
       "    </tr>\n",
       "  </thead>\n",
       "  <tbody>\n",
       "    <tr>\n",
       "      <th>0</th>\n",
       "      <td>Bronx</td>\n",
       "      <td>1</td>\n",
       "      <td>97192.183333</td>\n",
       "      <td>Melrose, Mott Haven, Port Morris</td>\n",
       "      <td>5.543656</td>\n",
       "      <td>4.543575</td>\n",
       "      <td>1.000080</td>\n",
       "      <td>3.019790</td>\n",
       "      <td>1.011398</td>\n",
       "      <td>1.213061</td>\n",
       "      <td>...</td>\n",
       "      <td>9.328396e+12</td>\n",
       "      <td>2.866036e+13</td>\n",
       "      <td>2.085514e+11</td>\n",
       "      <td>3.475022e+12</td>\n",
       "      <td>3.436395e+10</td>\n",
       "      <td>6.529830e+11</td>\n",
       "      <td>9.735554e+11</td>\n",
       "      <td>1.851461e+11</td>\n",
       "      <td>7.884095e+11</td>\n",
       "      <td>3.533813e+13</td>\n",
       "    </tr>\n",
       "    <tr>\n",
       "      <th>1</th>\n",
       "      <td>Bronx</td>\n",
       "      <td>2</td>\n",
       "      <td>58333.850000</td>\n",
       "      <td>Hunts Point, Longwood</td>\n",
       "      <td>4.138249</td>\n",
       "      <td>3.455969</td>\n",
       "      <td>0.682280</td>\n",
       "      <td>2.137695</td>\n",
       "      <td>1.160561</td>\n",
       "      <td>0.599995</td>\n",
       "      <td>...</td>\n",
       "      <td>5.598817e+12</td>\n",
       "      <td>1.720168e+13</td>\n",
       "      <td>1.251706e+11</td>\n",
       "      <td>2.085676e+12</td>\n",
       "      <td>2.062492e+10</td>\n",
       "      <td>3.919143e+11</td>\n",
       "      <td>5.843190e+11</td>\n",
       "      <td>1.111230e+11</td>\n",
       "      <td>4.731961e+11</td>\n",
       "      <td>2.120962e+13</td>\n",
       "    </tr>\n",
       "    <tr>\n",
       "      <th>2</th>\n",
       "      <td>Bronx</td>\n",
       "      <td>3</td>\n",
       "      <td>89969.333333</td>\n",
       "      <td>Morrisania, Crotona Park East</td>\n",
       "      <td>3.198868</td>\n",
       "      <td>2.557538</td>\n",
       "      <td>0.641330</td>\n",
       "      <td>1.650562</td>\n",
       "      <td>0.711353</td>\n",
       "      <td>0.654668</td>\n",
       "      <td>...</td>\n",
       "      <td>8.635155e+12</td>\n",
       "      <td>2.653046e+13</td>\n",
       "      <td>1.930529e+11</td>\n",
       "      <td>3.216775e+12</td>\n",
       "      <td>3.181019e+10</td>\n",
       "      <td>6.044564e+11</td>\n",
       "      <td>9.012055e+11</td>\n",
       "      <td>1.713869e+11</td>\n",
       "      <td>7.298187e+11</td>\n",
       "      <td>3.271197e+13</td>\n",
       "    </tr>\n",
       "    <tr>\n",
       "      <th>3</th>\n",
       "      <td>Bronx</td>\n",
       "      <td>4</td>\n",
       "      <td>160477.050000</td>\n",
       "      <td>Highbridge, Concourse Village</td>\n",
       "      <td>3.299537</td>\n",
       "      <td>2.724377</td>\n",
       "      <td>0.575160</td>\n",
       "      <td>1.785925</td>\n",
       "      <td>0.707266</td>\n",
       "      <td>0.642459</td>\n",
       "      <td>...</td>\n",
       "      <td>1.540241e+13</td>\n",
       "      <td>4.732201e+13</td>\n",
       "      <td>3.443457e+11</td>\n",
       "      <td>5.737718e+12</td>\n",
       "      <td>5.673939e+10</td>\n",
       "      <td>1.078161e+12</td>\n",
       "      <td>1.607468e+12</td>\n",
       "      <td>3.057004e+11</td>\n",
       "      <td>1.301768e+12</td>\n",
       "      <td>5.834789e+13</td>\n",
       "    </tr>\n",
       "    <tr>\n",
       "      <th>4</th>\n",
       "      <td>Bronx</td>\n",
       "      <td>5</td>\n",
       "      <td>134259.416667</td>\n",
       "      <td>University Hts., Fordham, Mt. Hope</td>\n",
       "      <td>2.716383</td>\n",
       "      <td>2.168191</td>\n",
       "      <td>0.548192</td>\n",
       "      <td>1.405488</td>\n",
       "      <td>0.592137</td>\n",
       "      <td>0.590648</td>\n",
       "      <td>...</td>\n",
       "      <td>1.288607e+13</td>\n",
       "      <td>3.959087e+13</td>\n",
       "      <td>2.880889e+11</td>\n",
       "      <td>4.800329e+12</td>\n",
       "      <td>4.746970e+10</td>\n",
       "      <td>9.020181e+11</td>\n",
       "      <td>1.344851e+12</td>\n",
       "      <td>2.557572e+11</td>\n",
       "      <td>1.089094e+12</td>\n",
       "      <td>4.881541e+13</td>\n",
       "    </tr>\n",
       "  </tbody>\n",
       "</table>\n",
       "<p>5 rows × 817 columns</p>\n",
       "</div>"
      ],
      "text/plain": [
       "  Borough  boro_cd  Population_2019                             CD Name  \\\n",
       "0   Bronx        1     97192.183333    Melrose, Mott Haven, Port Morris   \n",
       "1   Bronx        2     58333.850000               Hunts Point, Longwood   \n",
       "2   Bronx        3     89969.333333       Morrisania, Crotona Park East   \n",
       "3   Bronx        4    160477.050000       Highbridge, Concourse Village   \n",
       "4   Bronx        5    134259.416667  University Hts., Fordham, Mt. Hope   \n",
       "\n",
       "     Arrest    Arr_SM    Arr_SF  Arr_A25-44  Arr_A18-24  Arr_A45-64  ...  \\\n",
       "0  5.543656  4.543575  1.000080    3.019790    1.011398    1.213061  ...   \n",
       "1  4.138249  3.455969  0.682280    2.137695    1.160561    0.599995  ...   \n",
       "2  3.198868  2.557538  0.641330    1.650562    0.711353    0.654668  ...   \n",
       "3  3.299537  2.724377  0.575160    1.785925    0.707266    0.642459  ...   \n",
       "4  2.716383  2.168191  0.548192    1.405488    0.592137    0.590648  ...   \n",
       "\n",
       "   demo_Whitealone  demo_BlackorAfricanAmericanalone  \\\n",
       "0     9.328396e+12                      2.866036e+13   \n",
       "1     5.598817e+12                      1.720168e+13   \n",
       "2     8.635155e+12                      2.653046e+13   \n",
       "3     1.540241e+13                      4.732201e+13   \n",
       "4     1.288607e+13                      3.959087e+13   \n",
       "\n",
       "   demo_AmericanIndianandAlaskaNativealone  demo_Asianalone  \\\n",
       "0                             2.085514e+11     3.475022e+12   \n",
       "1                             1.251706e+11     2.085676e+12   \n",
       "2                             1.930529e+11     3.216775e+12   \n",
       "3                             3.443457e+11     5.737718e+12   \n",
       "4                             2.880889e+11     4.800329e+12   \n",
       "\n",
       "   demo_NativeHawaiianandOtherPacificIslanderalone  demo_Someotherracealone  \\\n",
       "0                                     3.436395e+10             6.529830e+11   \n",
       "1                                     2.062492e+10             3.919143e+11   \n",
       "2                                     3.181019e+10             6.044564e+11   \n",
       "3                                     5.673939e+10             1.078161e+12   \n",
       "4                                     4.746970e+10             9.020181e+11   \n",
       "\n",
       "   demo_Twoormoreraces.2  demo_TworacesincludingSomeotherrace  \\\n",
       "0           9.735554e+11                         1.851461e+11   \n",
       "1           5.843190e+11                         1.111230e+11   \n",
       "2           9.012055e+11                         1.713869e+11   \n",
       "3           1.607468e+12                         3.057004e+11   \n",
       "4           1.344851e+12                         2.557572e+11   \n",
       "\n",
       "   demo_TworacesexcludingSomeotherraceandThreeormoreraces  \\\n",
       "0                                       7.884095e+11        \n",
       "1                                       4.731961e+11        \n",
       "2                                       7.298187e+11        \n",
       "3                                       1.301768e+12        \n",
       "4                                       1.089094e+12        \n",
       "\n",
       "   demo_Totalhousingunits  \n",
       "0            3.533813e+13  \n",
       "1            2.120962e+13  \n",
       "2            3.271197e+13  \n",
       "3            5.834789e+13  \n",
       "4            4.881541e+13  \n",
       "\n",
       "[5 rows x 817 columns]"
      ]
     },
     "execution_count": 157,
     "metadata": {},
     "output_type": "execute_result"
    }
   ],
   "source": [
    "districts_table.head()"
   ]
  },
  {
   "cell_type": "markdown",
   "metadata": {},
   "source": [
    "## Weather table [7]"
   ]
  },
  {
   "cell_type": "code",
   "execution_count": 158,
   "metadata": {},
   "outputs": [],
   "source": [
    "l = [\"january\",\"february\",\"march\",\"april\",\"may\",\"june\",\"july\",\"august\",\"september\"]\n",
    "temp = pd.DataFrame()\n",
    "for i in range(0,9):\n",
    "    table = pd.read_csv(path+l[i]+\"_2019.txt\", delim_whitespace =  True)[[\"DY\",\"AVG\",\"DEP\"]]\n",
    "    table.rename(columns = {\"DY\":\"DAY\",\"AVG\":\"Temperature\"}, inplace = True)\n",
    "    table[\"MONTH\"]=i+1\n",
    "    temp = pd.concat([table,temp], ignore_index = True)"
   ]
  },
  {
   "cell_type": "code",
   "execution_count": 159,
   "metadata": {
    "scrolled": true
   },
   "outputs": [],
   "source": [
    "boro_precinct_arrest = pd.merge(boro_precinct_arrest,temp, on = [\"MONTH\",\"DAY\"])"
   ]
  },
  {
   "cell_type": "markdown",
   "metadata": {},
   "source": [
    "## Save tables"
   ]
  },
  {
   "cell_type": "code",
   "execution_count": 160,
   "metadata": {},
   "outputs": [],
   "source": [
    "schools.to_csv(path + \"Modified\\\\Schools.csv\")\n",
    "boro_precinct_arrest.to_csv(path + \"Modified\\\\boro_precinct_arrest.csv\")\n",
    "boro_PI.to_csv(path + \"Modified\\\\boro_PI.csv\")\n",
    "districts.reset_index().to_file(path + \"Modified\\\\Districts.shp\")\n",
    "districts_table.to_csv(path + \"Modified\\\\Districts_table.csv\",index = False)"
   ]
  },
  {
   "cell_type": "markdown",
   "metadata": {},
   "source": [
    "## References"
   ]
  },
  {
   "cell_type": "markdown",
   "metadata": {},
   "source": [
    "[1] Police Department (NYPD), “NYPD Arrest Data (Year to Date),” Cityofnewyork.us, 05-Jun-2018. [Online]. Available: http://data.cityofnewyork.us/Public-Safety/NYPD-Arrest-Data-Year-to-Date-/uip8-fykc. [Accessed: 05-Dec-2019].\n",
    "\n",
    "[2]\n",
    "Open Calgary, “Points Of Interest | NYC Open Data,” NYC Open Data, 2018. [Online]. Available: http://data.cityofnewyork.us/City-Government/Points-Of-Interest/rxuy-2muj. [Accessed: 05-Dec-2019].\n",
    "\n",
    "[3]\n",
    "Department of Education (DOE, “School Point Locations,” Cityofnewyork.us, 22-Sep-2011. [Online]. Available: http://data.cityofnewyork.us/Education/School-Point-Locations/jfju-ynrr. [Accessed: 05-Dec-2019].\n",
    "\n",
    "[4]\n",
    "Open Calgary, “Community Districts | NYC Open Data,” NYC Open Data, 2018. [Online]. Available: http://data.cityofnewyork.us/City-Government/Community-Districts/yfnk-k7r4. [Accessed: 05-Dec-2019].\n",
    "\n",
    "[5]\n",
    "Department of City Planning (DCP, “New York City Population By Community Districts,” Cityofnewyork.us, 20-Feb-2013. [Online]. Available: http://data.cityofnewyork.us/City-Government/New-York-City-Population-By-Community-Districts/xi7c-iiu2. [Accessed: 05-Dec-2019].\n",
    "\n",
    "[6]\n",
    "Department of City Planning (DCP, “Demographic and Housing Profiles by Borough,” Cityofnewyork.us, 09-Aug-2011. [Online]. Available: http://data.cityofnewyork.us/City-Government/Demographic-and-Housing-Profiles-by-Borough/cu9u-3r5e. [Accessed: 05-Dec-2019].\n",
    "\n",
    "[7]\n",
    "National Weather Service Corporate Image Web Team, “National Weather Service Climate,” Weather.gov, 2019. [Online]. Available: https://w2.weather.gov/climate/index.php?wfo=okx.\n"
   ]
  }
 ],
 "metadata": {
  "hide_input": false,
  "kernelspec": {
   "display_name": "Python 3",
   "language": "python",
   "name": "python3"
  },
  "language_info": {
   "codemirror_mode": {
    "name": "ipython",
    "version": 3
   },
   "file_extension": ".py",
   "mimetype": "text/x-python",
   "name": "python",
   "nbconvert_exporter": "python",
   "pygments_lexer": "ipython3",
   "version": "3.7.4"
  },
  "toc": {
   "base_numbering": 1,
   "nav_menu": {},
   "number_sections": true,
   "sideBar": true,
   "skip_h1_title": true,
   "title_cell": "Table of Contents",
   "title_sidebar": "Contents",
   "toc_cell": false,
   "toc_position": {
    "height": "calc(100% - 180px)",
    "left": "10px",
    "top": "150px",
    "width": "308.133px"
   },
   "toc_section_display": true,
   "toc_window_display": true
  }
 },
 "nbformat": 4,
 "nbformat_minor": 2
}
